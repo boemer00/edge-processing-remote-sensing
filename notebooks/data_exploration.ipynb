{
 "cells": [
  {
   "cell_type": "markdown",
   "id": "dff01bb5-cb3c-499b-b454-03f8639a5a6b",
   "metadata": {},
   "source": [
    "## Data Wrangling"
   ]
  },
  {
   "cell_type": "code",
   "execution_count": 9,
   "id": "6cf5d3cd-de45-4790-a9b4-94d6cb5fb3d7",
   "metadata": {},
   "outputs": [],
   "source": [
    "import os\n",
    "import cv2\n",
    "import random\n",
    "import pandas as pd\n",
    "import numpy as np\n",
    "\n",
    "import seaborn as sns\n",
    "import matplotlib.pyplot as plt\n",
    "from IPython.display import display, Image\n",
    "\n",
    "from sklearn.model_selection import train_test_split"
   ]
  },
  {
   "cell_type": "code",
   "execution_count": 2,
   "id": "2a89033a-a811-48c5-8439-232f78da1970",
   "metadata": {},
   "outputs": [],
   "source": [
    "# Create a list to hold data\n",
    "data_list = []\n",
    "\n",
    "# Define classes\n",
    "data_path = '/Users/renatoboemer/code/edge/raw_data'\n",
    "for folder in os.listdir(data_path):\n",
    "    folder_path = os.path.join(data_path, folder)\n",
    "    \n",
    "    # Check if the item is a directory\n",
    "    if os.path.isdir(folder_path):\n",
    "        for image in os.listdir(folder_path):\n",
    "            image_path = os.path.join(folder_path, image)\n",
    "            label = folder\n",
    "            data_list.append({'image_path': image_path, 'label': label})\n",
    "\n",
    "# Convert list to DataFrame\n",
    "data = pd.DataFrame(data_list)\n"
   ]
  },
  {
   "cell_type": "code",
   "execution_count": 3,
   "id": "cf994211-1706-4a10-87d0-30e4bf3f2a91",
   "metadata": {},
   "outputs": [
    {
     "data": {
      "text/html": [
       "<div>\n",
       "<style scoped>\n",
       "    .dataframe tbody tr th:only-of-type {\n",
       "        vertical-align: middle;\n",
       "    }\n",
       "\n",
       "    .dataframe tbody tr th {\n",
       "        vertical-align: top;\n",
       "    }\n",
       "\n",
       "    .dataframe thead th {\n",
       "        text-align: right;\n",
       "    }\n",
       "</style>\n",
       "<table border=\"1\" class=\"dataframe\">\n",
       "  <thead>\n",
       "    <tr style=\"text-align: right;\">\n",
       "      <th></th>\n",
       "      <th>image_path</th>\n",
       "      <th>label</th>\n",
       "    </tr>\n",
       "  </thead>\n",
       "  <tbody>\n",
       "    <tr>\n",
       "      <th>0</th>\n",
       "      <td>/Users/renatoboemer/code/edge/raw_data/cloudy/...</td>\n",
       "      <td>cloudy</td>\n",
       "    </tr>\n",
       "    <tr>\n",
       "      <th>1</th>\n",
       "      <td>/Users/renatoboemer/code/edge/raw_data/cloudy/...</td>\n",
       "      <td>cloudy</td>\n",
       "    </tr>\n",
       "    <tr>\n",
       "      <th>2</th>\n",
       "      <td>/Users/renatoboemer/code/edge/raw_data/cloudy/...</td>\n",
       "      <td>cloudy</td>\n",
       "    </tr>\n",
       "    <tr>\n",
       "      <th>3</th>\n",
       "      <td>/Users/renatoboemer/code/edge/raw_data/cloudy/...</td>\n",
       "      <td>cloudy</td>\n",
       "    </tr>\n",
       "    <tr>\n",
       "      <th>4</th>\n",
       "      <td>/Users/renatoboemer/code/edge/raw_data/cloudy/...</td>\n",
       "      <td>cloudy</td>\n",
       "    </tr>\n",
       "  </tbody>\n",
       "</table>\n",
       "</div>"
      ],
      "text/plain": [
       "                                          image_path   label\n",
       "0  /Users/renatoboemer/code/edge/raw_data/cloudy/...  cloudy\n",
       "1  /Users/renatoboemer/code/edge/raw_data/cloudy/...  cloudy\n",
       "2  /Users/renatoboemer/code/edge/raw_data/cloudy/...  cloudy\n",
       "3  /Users/renatoboemer/code/edge/raw_data/cloudy/...  cloudy\n",
       "4  /Users/renatoboemer/code/edge/raw_data/cloudy/...  cloudy"
      ]
     },
     "execution_count": 3,
     "metadata": {},
     "output_type": "execute_result"
    }
   ],
   "source": [
    "data.head()"
   ]
  },
  {
   "cell_type": "code",
   "execution_count": 4,
   "id": "2ef547e5-8c9b-49c4-a19e-439838d9490a",
   "metadata": {},
   "outputs": [
    {
     "name": "stdout",
     "output_type": "stream",
     "text": [
      "Labels:  ['cloudy' 'water' 'green_area' 'desert']\n"
     ]
    },
    {
     "data": {
      "text/plain": [
       "label\n",
       "cloudy        1500\n",
       "water         1500\n",
       "green_area    1500\n",
       "desert        1131\n",
       "Name: count, dtype: int64"
      ]
     },
     "execution_count": 4,
     "metadata": {},
     "output_type": "execute_result"
    }
   ],
   "source": [
    "print('Labels: ', data.label.unique())\n",
    "classes = data.label.unique()\n",
    "data['label'].value_counts()"
   ]
  },
  {
   "cell_type": "markdown",
   "id": "4b2e008f-cc64-4a86-b1ad-9aee233a5401",
   "metadata": {},
   "source": [
    "## Data Augumentation"
   ]
  },
  {
   "cell_type": "markdown",
   "id": "8dee4dd9-317b-4fe3-bb04-b9381688b36f",
   "metadata": {},
   "source": [
    "The `desert` class is slightly imbalanced. To balance the dataset by augmenting the `desert` images, we will have to create an additional \n",
    "1500−1131=**369 images**. Let's apply a couple of data augmentation techniques to address this issue:\n",
    "- rotation\n",
    "- translation\n",
    "\n",
    "Given these augmentations, each original `desert` image would generate 7 additional images (3 from rotations and 4 from translations).\n",
    "\n",
    "To achieve 369 new images, we will need to process ⌈369/7⌉=53 original `desert` images."
   ]
  },
  {
   "cell_type": "code",
   "execution_count": 10,
   "id": "fa323ca8-c065-4283-ab05-1f28dae40af1",
   "metadata": {},
   "outputs": [],
   "source": [
    "def rotate_image(image, angle):\n",
    "    rows, cols, _ = image.shape\n",
    "    M = cv2.getRotationMatrix2D((cols/2, rows/2), angle, 1) \n",
    "    return cv2.warpAffine(image, M, (cols, rows))\n",
    "\n",
    "def translate_image(image, x_shift, y_shift):\n",
    "    rows, cols, _ = image.shape\n",
    "    M = np.float32([[1, 0, x_shift], [0, 1, y_shift]])\n",
    "    return cv2.warpAffine(image, M, (cols, rows))"
   ]
  },
  {
   "cell_type": "code",
   "execution_count": 11,
   "id": "4d2b1e25-e927-42eb-9df1-7b4a0345edd6",
   "metadata": {},
   "outputs": [],
   "source": [
    "# Paths to desert images\n",
    "desert_path = '/Users/renatoboemer/code/edge/raw_data/desert'\n",
    "desert_image_paths = []\n",
    "\n",
    "for image in os.listdir(desert_path):\n",
    "    image_path = os.path.join(desert_path, image)\n",
    "    desert_image_paths.append(image_path)\n",
    "    "
   ]
  },
  {
   "cell_type": "code",
   "execution_count": 13,
   "id": "4ec7ef68-7b13-4005-83e8-a99c4cbe4e6f",
   "metadata": {},
   "outputs": [],
   "source": [
    "# Shuffle the paths to randomize which images we are augmenting\n",
    "random.shuffle(desert_image_paths)\n",
    "\n",
    "augmented_images = []\n",
    "\n",
    "for i, path in enumerate(desert_image_paths[:53]):\n",
    "    image = cv2.imread(path)\n",
    "\n",
    "    # Extracting the filename without extension\n",
    "    filename = os.path.basename(path)\n",
    "    base_filename, file_extension = os.path.splitext(filename)\n",
    "    \n",
    "    # Rotations\n",
    "    cv2.imwrite(os.path.join(desert_path, f\"{base_filename}_rotated_-15{file_extension}\"), rotate_image(image, -15))\n",
    "    cv2.imwrite(os.path.join(desert_path, f\"{base_filename}_rotated_15{file_extension}\"), rotate_image(image, 15))\n",
    "    cv2.imwrite(os.path.join(desert_path, f\"{base_filename}_rotated_30{file_extension}\"), rotate_image(image, 30))\n",
    "    \n",
    "    # Translations\n",
    "    cv2.imwrite(os.path.join(desert_path, f\"{base_filename}_translated_right{file_extension}\"), translate_image(image, 25, 0))\n",
    "    cv2.imwrite(os.path.join(desert_path, f\"{base_filename}_translated_left{file_extension}\"), translate_image(image, -25, 0))\n",
    "    cv2.imwrite(os.path.join(desert_path, f\"{base_filename}_translated_down{file_extension}\"), translate_image(image, 0, 25))\n",
    "    cv2.imwrite(os.path.join(desert_path, f\"{base_filename}_translated_up{file_extension}\"), translate_image(image, 0, -25))\n"
   ]
  },
  {
   "cell_type": "code",
   "execution_count": 22,
   "id": "dd035a93-2ef7-49c2-8c74-e3a89327b287",
   "metadata": {},
   "outputs": [],
   "source": [
    "# Create a list to hold data\n",
    "new_data_list = []\n",
    "\n",
    "# Define classes\n",
    "data_path = '/Users/renatoboemer/code/edge/raw_data'\n",
    "for folder in os.listdir(data_path):\n",
    "    folder_path = os.path.join(data_path, folder)\n",
    "    \n",
    "    # Check if the item is a directory\n",
    "    if os.path.isdir(folder_path):\n",
    "        for image in os.listdir(folder_path):\n",
    "            if image.endswith(('.jpg', '.png')):\n",
    "                image_path = os.path.join(folder_path, image)\n",
    "                label = folder\n",
    "                new_data_list.append({'image_path': image_path, 'label': label})"
   ]
  },
  {
   "cell_type": "code",
   "execution_count": 23,
   "id": "a7146a4f-2b91-4ce5-bff1-84d01b163642",
   "metadata": {},
   "outputs": [
    {
     "name": "stdout",
     "output_type": "stream",
     "text": [
      "Total images: 6002\n",
      "label\n",
      "desert        1502\n",
      "cloudy        1500\n",
      "water         1500\n",
      "green_area    1500\n",
      "Name: count, dtype: int64\n"
     ]
    }
   ],
   "source": [
    "# Convert list to DataFrame\n",
    "df = pd.DataFrame(new_data_list)\n",
    "\n",
    "# Print total count and count per label\n",
    "print(f\"Total images: {len(df)}\")\n",
    "print(df['label'].value_counts())"
   ]
  },
  {
   "cell_type": "markdown",
   "id": "b882e67d-5064-427f-88c4-d35c5f2527ff",
   "metadata": {},
   "source": [
    "## Check an image"
   ]
  },
  {
   "cell_type": "code",
   "execution_count": 24,
   "id": "b224b077-8822-4491-b309-792ccff79fba",
   "metadata": {},
   "outputs": [
    {
     "data": {
      "image/jpeg": "[encoded data removed]",
      "text/plain": [
       "<IPython.core.display.Image object>"
      ]
     },
     "metadata": {},
     "output_type": "display_data"
    }
   ],
   "source": [
    "# Specify the path to your image\n",
    "image_path = '/Users/renatoboemer/code/edge/raw_data/desert/desert(57).jpg'\n",
    "\n",
    "# Read the image\n",
    "img = cv2.imread(image_path)\n",
    "\n",
    "# Check if the image was loaded successfully\n",
    "if img is None:\n",
    "    print(\"Error: Couldn't load the image.\")\n",
    "else:\n",
    "    # Display the image in the notebook\n",
    "    display(Image(data=cv2.imencode('.jpg', img)[1].tobytes()))\n"
   ]
  },
  {
   "cell_type": "code",
   "execution_count": 25,
   "id": "b45ade62-d29d-413f-afdc-9b9fba5f16fb",
   "metadata": {},
   "outputs": [
    {
     "name": "stdout",
     "output_type": "stream",
     "text": [
      "image dimensions: (256, 256, 3)\n",
      "uint8\n"
     ]
    }
   ],
   "source": [
    "# Printing the size (height, width, channels)\n",
    "print(\"image dimensions:\", img.shape)\n",
    "\n",
    "# Print image type\n",
    "print(img.dtype)"
   ]
  },
  {
   "cell_type": "markdown",
   "id": "66352538-bc01-4a46-b6fe-bd52a8695442",
   "metadata": {},
   "source": [
    "Images are in 8-bit. Ideally, we would like to train our model using 32-bit to improve accuracy but it will not be possible."
   ]
  },
  {
   "cell_type": "markdown",
   "id": "3c45654b-2476-48dc-841e-77eef1319971",
   "metadata": {},
   "source": [
    "## Resize & Normalize images"
   ]
  },
  {
   "cell_type": "code",
   "execution_count": 26,
   "id": "061fd4dc-3d65-48ef-a95b-c2a2e1814c01",
   "metadata": {},
   "outputs": [],
   "source": [
    "def resize_images_in_directory(main_directory, target_size=(224, 224)):\n",
    "    \"\"\"\n",
    "    Resize all images in the given directory and its sub-directories to the target size.\n",
    "\n",
    "    :param main_directory: Path to the main directory.\n",
    "    :param target_size: Tuple indicating target size (width, height).\n",
    "    \"\"\"\n",
    "    \n",
    "    resized = False  # Flag to indicate if any images were resized\n",
    "    \n",
    "    for root, dirs, files in os.walk(main_directory):\n",
    "        for file in files:\n",
    "            # Check if the file is an image\n",
    "            if file.lower().endswith(('.png', '.jpg', '.jpeg')):\n",
    "                image_path = os.path.join(root, file)\n",
    "                \n",
    "                # Read and resize the image\n",
    "                img = cv2.imread(image_path)\n",
    "                if img is not None:  # Check if image was loaded successfully\n",
    "                    resized_img = cv2.resize(img, target_size)\n",
    "                    \n",
    "                    # Save the resized image back to the same path, effectively replacing it\n",
    "                    cv2.imwrite(image_path, resized_img)\n",
    "                    resized = True  # Set the flag to indicate that at least one image was resized\n",
    "\n",
    "    if resized:\n",
    "        print(\"Resizing complete.\")\n",
    "    else:\n",
    "        print(\"No images were resized.\")\n"
   ]
  },
  {
   "cell_type": "code",
   "execution_count": 27,
   "id": "02bf8068-9b0c-4259-948a-5023b74eb273",
   "metadata": {},
   "outputs": [
    {
     "name": "stdout",
     "output_type": "stream",
     "text": [
      "Resizing complete.\n"
     ]
    }
   ],
   "source": [
    "main_directory = \"/Users/renatoboemer/code/edge/raw_data\"\n",
    "resize_images_in_directory(main_directory, target_size=(224, 224))"
   ]
  },
  {
   "cell_type": "code",
   "execution_count": 28,
   "id": "d0e010b4-a467-41b0-8f0f-5b53d3ebbb95",
   "metadata": {},
   "outputs": [],
   "source": [
    "def normalize_images(main_directory):\n",
    "    \"\"\"\n",
    "    Normalize pixel values of all images in the given directory and its sub-directories to the [0, 1] range.\n",
    "    \"\"\"\n",
    "    \n",
    "    normalized = False  # Initialize a flag to check if any images were normalized\n",
    "\n",
    "    for root, dirs, files in os.walk(main_directory):\n",
    "        for file in files:\n",
    "            # Check if the file is an image (e.g., has a .jpg or .png extension).\n",
    "            if file.lower().endswith(('.png', '.jpg', '.jpeg')):\n",
    "                image_path = os.path.join(root, file)\n",
    "\n",
    "                # Read the image\n",
    "                img = cv2.imread(image_path)\n",
    "                if img is not None:  # Check if image was loaded successfully\n",
    "                    # Normalize pixel values to the [0, 1] range\n",
    "                    img_normalized = img.astype(np.float32) / 255.0\n",
    "\n",
    "                    # Save the normalized image\n",
    "                    cv2.imwrite(image_path, (img_normalized * 255))\n",
    "\n",
    "                    normalized = True  # Set the flag to indicate that at least one image was normalized\n",
    "\n",
    "    if normalized:\n",
    "        print(\"Normalization complete.\")\n",
    "    else:\n",
    "        print(\"Images not normalized.\")\n"
   ]
  },
  {
   "cell_type": "code",
   "execution_count": 29,
   "id": "14dfc94d-9095-4f93-8db7-d0e36162686b",
   "metadata": {},
   "outputs": [
    {
     "name": "stdout",
     "output_type": "stream",
     "text": [
      "Normalization complete.\n"
     ]
    }
   ],
   "source": [
    "main_directory = \"/Users/renatoboemer/code/edge/raw_data\"\n",
    "normalize_images(main_directory)"
   ]
  },
  {
   "cell_type": "markdown",
   "id": "f2ba064b-2f45-4754-ba60-43394768d7af",
   "metadata": {},
   "source": [
    "## Train, Test, Split"
   ]
  },
  {
   "cell_type": "code",
   "execution_count": 30,
   "id": "16762e60-0e64-4437-9ef4-bc9b55aa5ebe",
   "metadata": {},
   "outputs": [],
   "source": [
    "train_df, val_test_df = train_test_split(data, test_size=0.2, random_state=42)\n",
    "val_df, test_df = train_test_split(val_test_df, test_size=0.5, random_state=42)"
   ]
  },
  {
   "cell_type": "code",
   "execution_count": 31,
   "id": "11419299-994f-4eae-ac31-6d06e9d4fe0e",
   "metadata": {},
   "outputs": [
    {
     "name": "stdout",
     "output_type": "stream",
     "text": [
      "Number of training samples:  4504\n",
      "Number of validation samples:  563\n",
      "Number of testing samples:  564\n"
     ]
    }
   ],
   "source": [
    "print(\"Number of training samples: \", train_df.shape[0])\n",
    "print(\"Number of validation samples: \", val_df.shape[0])\n",
    "print(\"Number of testing samples: \", test_df.shape[0])"
   ]
  },
  {
   "cell_type": "markdown",
   "id": "daa6b7d4-432d-4585-9d3c-71262d39d578",
   "metadata": {},
   "source": [
    "## Model"
   ]
  },
  {
   "cell_type": "markdown",
   "id": "a31cfbc3-7dc7-417f-b8d9-d58109af774a",
   "metadata": {},
   "source": [
    "Satellites, especially those with onboard processing for tasks like image classification, have limitations when it comes to power, memory, and computational resources. This contrasts with the extensive resources available on the ground in data centers. Therefore, the convolutional neural networks (CNNs) employed on satellites tend to prioritise efficiency and resource conservation.\n",
    "\n",
    "Given those constraints, I have decided to use [Keras MobileNet](https://keras.io/api/applications/mobilenet/). \n",
    "\n",
    "MobileNet is a class of efficient deep learning neural network architectures designed primarily for mobile and edge devices, rather than server-based applications. The goal of MobileNet is to provide a lightweight model that offers good performance while being computationally efficient, thereby allowing for real-time inference on devices with limited computational resources, such as a satellite 🛰️."
   ]
  },
  {
   "cell_type": "code",
   "execution_count": null,
   "id": "1ce9870c-d41f-4a60-aa99-f7c877a29c6c",
   "metadata": {},
   "outputs": [],
   "source": [
    "import tensorflow as tf\n",
    "from tensorflow.keras.applications import MobileNetV3Small\n",
    "from tensorflow.keras.layers import Input, Dense, GlobalAveragePooling2D\n",
    "from tensorflow.keras.models import Model\n",
    "from tensorflow.keras.optimizers import Adam\n",
    "from tensorflow.keras.losses import SparseCategoricalCrossentropy\n",
    "\n",
    "# Define input shape\n",
    "input_shape = (224, 224, 3)\n",
    "\n",
    "# Create MobileNetV3-Small model\n",
    "base_model = MobileNetV3Small(input_shape=input_shape, include_top=False, weights='imagenet')\n",
    "\n",
    "# Add custom classification layers on top\n",
    "x = GlobalAveragePooling2D()(base_model.output)\n",
    "x = Dense(128, activation='relu')(x)\n",
    "output = Dense(4, activation='softmax')(x)\n",
    "\n",
    "# Create the final model\n",
    "model = Model(inputs=base_model.input, outputs=output)\n",
    "\n",
    "# Compile the model\n",
    "model.compile(optimizer=Adam(learning_rate=0.001),\n",
    "              loss=SparseCategoricalCrossentropy(from_logits=False),\n",
    "              metrics=['accuracy'])\n"
   ]
  },
  {
   "cell_type": "code",
   "execution_count": null,
   "id": "fcf61bef-0cb7-4615-930f-9b5873c5d8bc",
   "metadata": {},
   "outputs": [],
   "source": [
    "model.summary()"
   ]
  },
  {
   "cell_type": "code",
   "execution_count": null,
   "id": "345601db-79d8-4017-a311-f8a3d0065f5f",
   "metadata": {},
   "outputs": [],
   "source": [
    "# Optional: Train the model with your dataset\n",
    "# Replace 'train_data' and 'validation_data' with your own datasets\n",
    "# model.fit(train_data, validation_data=validation_data, epochs=num_epochs)\n"
   ]
  },
  {
   "cell_type": "code",
   "execution_count": null,
   "id": "a46193ba-b299-4768-b3f2-e02e9217c5fe",
   "metadata": {},
   "outputs": [],
   "source": []
  }
 ],
 "metadata": {
  "kernelspec": {
   "display_name": "Python 3 (ipykernel)",
   "language": "python",
   "name": "python3"
  },
  "language_info": {
   "codemirror_mode": {
    "name": "ipython",
    "version": 3
   },
   "file_extension": ".py",
   "mimetype": "text/x-python",
   "name": "python",
   "nbconvert_exporter": "python",
   "pygments_lexer": "ipython3",
   "version": "3.10.6"
  }
 },
 "nbformat": 4,
 "nbformat_minor": 5
}
