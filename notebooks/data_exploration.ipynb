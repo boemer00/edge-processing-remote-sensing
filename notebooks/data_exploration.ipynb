{
 "cells": [
  {
   "cell_type": "markdown",
   "id": "dff01bb5-cb3c-499b-b454-03f8639a5a6b",
   "metadata": {},
   "source": [
    "## Data Wrangling"
   ]
  },
  {
   "cell_type": "code",
   "execution_count": 7,
   "id": "6cf5d3cd-de45-4790-a9b4-94d6cb5fb3d7",
   "metadata": {},
   "outputs": [],
   "source": [
    "import os\n",
    "import cv2\n",
    "import pandas as pd\n",
    "import numpy as np\n",
    "import matplotlib.pyplot as plt\n",
    "import seaborn as sns\n",
    "\n",
    "from sklearn.model_selection import train_test_split"
   ]
  },
  {
   "cell_type": "code",
   "execution_count": 10,
   "id": "2a89033a-a811-48c5-8439-232f78da1970",
   "metadata": {},
   "outputs": [],
   "source": [
    "# Create a list to hold data\n",
    "data_list = []\n",
    "\n",
    "# Define classes\n",
    "data_path = '/Users/renatoboemer/code/edge/raw_data'\n",
    "for folder in os.listdir(data_path):\n",
    "    folder_path = os.path.join(data_path, folder)\n",
    "    \n",
    "    # Check if the item is a directory\n",
    "    if os.path.isdir(folder_path):\n",
    "        for image in os.listdir(folder_path):\n",
    "            image_path = os.path.join(folder_path, image)\n",
    "            label = folder\n",
    "            data_list.append({'image_path': image_path, 'label': label})\n",
    "\n",
    "# Convert list to DataFrame\n",
    "data = pd.DataFrame(data_list)\n"
   ]
  },
  {
   "cell_type": "code",
   "execution_count": 11,
   "id": "cf994211-1706-4a10-87d0-30e4bf3f2a91",
   "metadata": {},
   "outputs": [
    {
     "data": {
      "text/html": [
       "<div>\n",
       "<style scoped>\n",
       "    .dataframe tbody tr th:only-of-type {\n",
       "        vertical-align: middle;\n",
       "    }\n",
       "\n",
       "    .dataframe tbody tr th {\n",
       "        vertical-align: top;\n",
       "    }\n",
       "\n",
       "    .dataframe thead th {\n",
       "        text-align: right;\n",
       "    }\n",
       "</style>\n",
       "<table border=\"1\" class=\"dataframe\">\n",
       "  <thead>\n",
       "    <tr style=\"text-align: right;\">\n",
       "      <th></th>\n",
       "      <th>image_path</th>\n",
       "      <th>label</th>\n",
       "    </tr>\n",
       "  </thead>\n",
       "  <tbody>\n",
       "    <tr>\n",
       "      <th>0</th>\n",
       "      <td>/Users/renatoboemer/code/edge/raw_data/cloudy/...</td>\n",
       "      <td>cloudy</td>\n",
       "    </tr>\n",
       "    <tr>\n",
       "      <th>1</th>\n",
       "      <td>/Users/renatoboemer/code/edge/raw_data/cloudy/...</td>\n",
       "      <td>cloudy</td>\n",
       "    </tr>\n",
       "    <tr>\n",
       "      <th>2</th>\n",
       "      <td>/Users/renatoboemer/code/edge/raw_data/cloudy/...</td>\n",
       "      <td>cloudy</td>\n",
       "    </tr>\n",
       "    <tr>\n",
       "      <th>3</th>\n",
       "      <td>/Users/renatoboemer/code/edge/raw_data/cloudy/...</td>\n",
       "      <td>cloudy</td>\n",
       "    </tr>\n",
       "    <tr>\n",
       "      <th>4</th>\n",
       "      <td>/Users/renatoboemer/code/edge/raw_data/cloudy/...</td>\n",
       "      <td>cloudy</td>\n",
       "    </tr>\n",
       "  </tbody>\n",
       "</table>\n",
       "</div>"
      ],
      "text/plain": [
       "                                          image_path   label\n",
       "0  /Users/renatoboemer/code/edge/raw_data/cloudy/...  cloudy\n",
       "1  /Users/renatoboemer/code/edge/raw_data/cloudy/...  cloudy\n",
       "2  /Users/renatoboemer/code/edge/raw_data/cloudy/...  cloudy\n",
       "3  /Users/renatoboemer/code/edge/raw_data/cloudy/...  cloudy\n",
       "4  /Users/renatoboemer/code/edge/raw_data/cloudy/...  cloudy"
      ]
     },
     "execution_count": 11,
     "metadata": {},
     "output_type": "execute_result"
    }
   ],
   "source": [
    "data.head()"
   ]
  },
  {
   "cell_type": "code",
   "execution_count": 12,
   "id": "2ef547e5-8c9b-49c4-a19e-439838d9490a",
   "metadata": {},
   "outputs": [
    {
     "name": "stdout",
     "output_type": "stream",
     "text": [
      "Labels:  ['cloudy' 'water' 'green_area' 'desert']\n"
     ]
    },
    {
     "data": {
      "text/plain": [
       "label\n",
       "cloudy        1500\n",
       "water         1500\n",
       "green_area    1500\n",
       "desert        1131\n",
       "Name: count, dtype: int64"
      ]
     },
     "execution_count": 12,
     "metadata": {},
     "output_type": "execute_result"
    }
   ],
   "source": [
    "print('Labels: ', data.label.unique())\n",
    "classes = data.label.unique()\n",
    "data['label'].value_counts()"
   ]
  },
  {
   "cell_type": "code",
   "execution_count": 13,
   "id": "b224b077-8822-4491-b309-792ccff79fba",
   "metadata": {},
   "outputs": [
    {
     "data": {
      "image/jpeg": "[encoded data removed]",
      "text/plain": [
       "<IPython.core.display.Image object>"
      ]
     },
     "metadata": {},
     "output_type": "display_data"
    }
   ],
   "source": [
    "import cv2\n",
    "from IPython.display import display, Image\n",
    "\n",
    "# Specify the path to your image\n",
    "image_path = '/Users/renatoboemer/code/edge/raw_data/desert/desert(57).jpg'\n",
    "\n",
    "# Read the image\n",
    "img = cv2.imread(image_path)\n",
    "\n",
    "# Check if the image was loaded successfully\n",
    "if img is None:\n",
    "    print(\"Error: Couldn't load the image.\")\n",
    "else:\n",
    "    # Display the image in the notebook\n",
    "    display(Image(data=cv2.imencode('.jpg', img)[1].tobytes()))\n"
   ]
  },
  {
   "cell_type": "code",
   "execution_count": 14,
   "id": "b45ade62-d29d-413f-afdc-9b9fba5f16fb",
   "metadata": {},
   "outputs": [
    {
     "name": "stdout",
     "output_type": "stream",
     "text": [
      "image dimensions: (224, 224, 3)\n"
     ]
    }
   ],
   "source": [
    "# Printing the size (height, width, channels)\n",
    "print(\"image dimensions:\", img.shape)"
   ]
  },
  {
   "cell_type": "code",
   "execution_count": 14,
   "id": "061fd4dc-3d65-48ef-a95b-c2a2e1814c01",
   "metadata": {},
   "outputs": [],
   "source": [
    "def resize_images_in_directory(main_directory, target_size=(224, 224)):\n",
    "    \"\"\"\n",
    "    Resize all images in the given directory and its sub-directories to the target size.\n",
    "\n",
    "    :param main_directory: Path to the main directory.\n",
    "    :param target_size: Tuple indicating target size (width, height).\n",
    "    \"\"\"\n",
    "    \n",
    "    resized = False  # Flag to indicate if any images were resized\n",
    "    \n",
    "    for root, dirs, files in os.walk(main_directory):\n",
    "        for file in files:\n",
    "            # Check if the file is an image (e.g., has a .jpg or .png extension).\n",
    "            if file.lower().endswith(('.png', '.jpg', '.jpeg')):\n",
    "                image_path = os.path.join(root, file)\n",
    "                \n",
    "                # Read and resize the image\n",
    "                img = cv2.imread(image_path)\n",
    "                if img is not None:  # Check if image was loaded successfully\n",
    "                    resized_img = cv2.resize(img, target_size)\n",
    "                    \n",
    "                    # Save the resized image back to the same path, effectively replacing it\n",
    "                    cv2.imwrite(image_path, resized_img)\n",
    "                    resized = True  # Set the flag to indicate that at least one image was resized\n",
    "\n",
    "    if resized:\n",
    "        print(\"Resizing complete.\")\n",
    "    else:\n",
    "        print(\"No images were resized.\")\n"
   ]
  },
  {
   "cell_type": "code",
   "execution_count": 15,
   "id": "02bf8068-9b0c-4259-948a-5023b74eb273",
   "metadata": {},
   "outputs": [
    {
     "name": "stdout",
     "output_type": "stream",
     "text": [
      "Resizing complete.\n"
     ]
    }
   ],
   "source": [
    "main_directory = \"/Users/renatoboemer/code/edge/raw_data\"\n",
    "resize_images_in_directory(main_directory, target_size=(224, 224))"
   ]
  },
  {
   "cell_type": "code",
   "execution_count": 15,
   "id": "d0e010b4-a467-41b0-8f0f-5b53d3ebbb95",
   "metadata": {},
   "outputs": [],
   "source": [
    "def normalize_images(main_directory):\n",
    "    \"\"\"\n",
    "    Normalize pixel values of all images in the given directory and its sub-directories to the [0, 1] range.\n",
    "    \"\"\"\n",
    "    \n",
    "    normalized = False  # Initialize a flag to check if any images were normalized\n",
    "\n",
    "    for root, dirs, files in os.walk(main_directory):\n",
    "        for file in files:\n",
    "            # Check if the file is an image (e.g., has a .jpg or .png extension).\n",
    "            if file.lower().endswith(('.png', '.jpg', '.jpeg')):\n",
    "                image_path = os.path.join(root, file)\n",
    "\n",
    "                # Read the image\n",
    "                img = cv2.imread(image_path)\n",
    "                if img is not None:  # Check if image was loaded successfully\n",
    "                    # Normalize pixel values to the [0, 1] range\n",
    "                    img_normalized = img.astype(np.float32) / 255.0\n",
    "\n",
    "                    # Save the normalized image (optional)\n",
    "                    cv2.imwrite(image_path, (img_normalized * 255).astype(np.uint8))\n",
    "\n",
    "                    normalized = True  # Set the flag to indicate that at least one image was normalized\n",
    "\n",
    "    if normalized:\n",
    "        print(\"Normalization complete.\")\n",
    "    else:\n",
    "        print(\"Images not normalized.\")\n"
   ]
  },
  {
   "cell_type": "code",
   "execution_count": 16,
   "id": "14dfc94d-9095-4f93-8db7-d0e36162686b",
   "metadata": {},
   "outputs": [
    {
     "name": "stdout",
     "output_type": "stream",
     "text": [
      "Normalization complete.\n"
     ]
    }
   ],
   "source": [
    "main_directory = \"/Users/renatoboemer/code/edge/raw_data\"\n",
    "normalize_images(main_directory)"
   ]
  },
  {
   "cell_type": "code",
   "execution_count": 17,
   "id": "f1d98813-8919-4326-9705-43f4ea233715",
   "metadata": {},
   "outputs": [
    {
     "data": {
      "text/html": [
       "<div>\n",
       "<style scoped>\n",
       "    .dataframe tbody tr th:only-of-type {\n",
       "        vertical-align: middle;\n",
       "    }\n",
       "\n",
       "    .dataframe tbody tr th {\n",
       "        vertical-align: top;\n",
       "    }\n",
       "\n",
       "    .dataframe thead th {\n",
       "        text-align: right;\n",
       "    }\n",
       "</style>\n",
       "<table border=\"1\" class=\"dataframe\">\n",
       "  <thead>\n",
       "    <tr style=\"text-align: right;\">\n",
       "      <th></th>\n",
       "      <th>image_path</th>\n",
       "      <th>label</th>\n",
       "    </tr>\n",
       "  </thead>\n",
       "  <tbody>\n",
       "    <tr>\n",
       "      <th>0</th>\n",
       "      <td>/Users/renatoboemer/code/edge/raw_data/cloudy/...</td>\n",
       "      <td>cloudy</td>\n",
       "    </tr>\n",
       "    <tr>\n",
       "      <th>1</th>\n",
       "      <td>/Users/renatoboemer/code/edge/raw_data/cloudy/...</td>\n",
       "      <td>cloudy</td>\n",
       "    </tr>\n",
       "    <tr>\n",
       "      <th>2</th>\n",
       "      <td>/Users/renatoboemer/code/edge/raw_data/cloudy/...</td>\n",
       "      <td>cloudy</td>\n",
       "    </tr>\n",
       "    <tr>\n",
       "      <th>3</th>\n",
       "      <td>/Users/renatoboemer/code/edge/raw_data/cloudy/...</td>\n",
       "      <td>cloudy</td>\n",
       "    </tr>\n",
       "    <tr>\n",
       "      <th>4</th>\n",
       "      <td>/Users/renatoboemer/code/edge/raw_data/cloudy/...</td>\n",
       "      <td>cloudy</td>\n",
       "    </tr>\n",
       "  </tbody>\n",
       "</table>\n",
       "</div>"
      ],
      "text/plain": [
       "                                          image_path   label\n",
       "0  /Users/renatoboemer/code/edge/raw_data/cloudy/...  cloudy\n",
       "1  /Users/renatoboemer/code/edge/raw_data/cloudy/...  cloudy\n",
       "2  /Users/renatoboemer/code/edge/raw_data/cloudy/...  cloudy\n",
       "3  /Users/renatoboemer/code/edge/raw_data/cloudy/...  cloudy\n",
       "4  /Users/renatoboemer/code/edge/raw_data/cloudy/...  cloudy"
      ]
     },
     "execution_count": 17,
     "metadata": {},
     "output_type": "execute_result"
    }
   ],
   "source": [
    "data.head()"
   ]
  },
  {
   "cell_type": "code",
   "execution_count": 18,
   "id": "16762e60-0e64-4437-9ef4-bc9b55aa5ebe",
   "metadata": {},
   "outputs": [],
   "source": [
    "train_df, val_test_df = train_test_split(data, test_size=0.2, random_state=42)\n",
    "val_df, test_df = train_test_split(val_test_df, test_size=0.5, random_state=42)"
   ]
  },
  {
   "cell_type": "code",
   "execution_count": 19,
   "id": "11419299-994f-4eae-ac31-6d06e9d4fe0e",
   "metadata": {},
   "outputs": [
    {
     "name": "stdout",
     "output_type": "stream",
     "text": [
      "Number of training samples:  4504\n",
      "Number of validation samples:  563\n",
      "Number of testing samples:  564\n"
     ]
    }
   ],
   "source": [
    "print(\"Number of training samples: \", train_df.shape[0])\n",
    "print(\"Number of validation samples: \", val_df.shape[0])\n",
    "print(\"Number of testing samples: \", test_df.shape[0])"
   ]
  },
  {
   "cell_type": "markdown",
   "id": "daa6b7d4-432d-4585-9d3c-71262d39d578",
   "metadata": {},
   "source": [
    "## Model"
   ]
  },
  {
   "cell_type": "code",
   "execution_count": null,
   "id": "1ce9870c-d41f-4a60-aa99-f7c877a29c6c",
   "metadata": {},
   "outputs": [],
   "source": [
    "import tensorflow as tf\n",
    "from tensorflow.keras.applications import MobileNetV3Small\n",
    "from tensorflow.keras.layers import Input, Dense, GlobalAveragePooling2D\n",
    "from tensorflow.keras.models import Model\n",
    "from tensorflow.keras.optimizers import Adam\n",
    "from tensorflow.keras.losses import SparseCategoricalCrossentropy\n",
    "\n",
    "# Define input shape\n",
    "input_shape = (224, 224, 3)\n",
    "\n",
    "# Create MobileNetV3-Small model\n",
    "base_model = MobileNetV3Small(input_shape=input_shape, include_top=False, weights='imagenet')\n",
    "\n",
    "# Add custom classification layers on top\n",
    "x = GlobalAveragePooling2D()(base_model.output)\n",
    "x = Dense(128, activation='relu')(x)\n",
    "output = Dense(4, activation='softmax')(x)\n",
    "\n",
    "# Create the final model\n",
    "model = Model(inputs=base_model.input, outputs=output)\n",
    "\n",
    "# Compile the model\n",
    "model.compile(optimizer=Adam(learning_rate=0.001),\n",
    "              loss=SparseCategoricalCrossentropy(from_logits=False),\n",
    "              metrics=['accuracy'])\n"
   ]
  },
  {
   "cell_type": "code",
   "execution_count": null,
   "id": "fcf61bef-0cb7-4615-930f-9b5873c5d8bc",
   "metadata": {},
   "outputs": [],
   "source": [
    "model.summary()"
   ]
  },
  {
   "cell_type": "code",
   "execution_count": null,
   "id": "345601db-79d8-4017-a311-f8a3d0065f5f",
   "metadata": {},
   "outputs": [],
   "source": [
    "# Optional: Train the model with your dataset\n",
    "# Replace 'train_data' and 'validation_data' with your own datasets\n",
    "# model.fit(train_data, validation_data=validation_data, epochs=num_epochs)\n"
   ]
  },
  {
   "cell_type": "code",
   "execution_count": null,
   "id": "a46193ba-b299-4768-b3f2-e02e9217c5fe",
   "metadata": {},
   "outputs": [],
   "source": []
  }
 ],
 "metadata": {
  "kernelspec": {
   "display_name": "Python 3 (ipykernel)",
   "language": "python",
   "name": "python3"
  },
  "language_info": {
   "codemirror_mode": {
    "name": "ipython",
    "version": 3
   },
   "file_extension": ".py",
   "mimetype": "text/x-python",
   "name": "python",
   "nbconvert_exporter": "python",
   "pygments_lexer": "ipython3",
   "version": "3.10.6"
  }
 },
 "nbformat": 4,
 "nbformat_minor": 5
}
