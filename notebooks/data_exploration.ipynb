{
 "cells": [
  {
   "cell_type": "code",
   "execution_count": 1,
   "id": "6cf5d3cd-de45-4790-a9b4-94d6cb5fb3d7",
   "metadata": {},
   "outputs": [],
   "source": [
    "import os\n",
    "import cv2\n",
    "import pandas as pd\n",
    "import numpy as np\n",
    "import matplotlib.pyplot as plt\n",
    "import seaborn as sns"
   ]
  },
  {
   "cell_type": "code",
   "execution_count": 2,
   "id": "2a89033a-a811-48c5-8439-232f78da1970",
   "metadata": {},
   "outputs": [],
   "source": [
    "# Create a list to hold data\n",
    "data_list = []\n",
    "\n",
    "# Define classes\n",
    "data_path = '/Users/renatoboemer/code/edge/raw_data'\n",
    "for folder in os.listdir(data_path):\n",
    "    folder_path = os.path.join(data_path, folder)\n",
    "    for image in os.listdir(folder_path):\n",
    "        image_path = os.path.join(folder_path, image)\n",
    "        label = folder\n",
    "        data_list.append({'image_path': image_path, 'label': label})\n",
    "\n",
    "# Convert list to DataFrame\n",
    "data = pd.DataFrame(data_list)\n"
   ]
  },
  {
   "cell_type": "code",
   "execution_count": 3,
   "id": "cf994211-1706-4a10-87d0-30e4bf3f2a91",
   "metadata": {},
   "outputs": [
    {
     "data": {
      "text/html": [
       "<div>\n",
       "<style scoped>\n",
       "    .dataframe tbody tr th:only-of-type {\n",
       "        vertical-align: middle;\n",
       "    }\n",
       "\n",
       "    .dataframe tbody tr th {\n",
       "        vertical-align: top;\n",
       "    }\n",
       "\n",
       "    .dataframe thead th {\n",
       "        text-align: right;\n",
       "    }\n",
       "</style>\n",
       "<table border=\"1\" class=\"dataframe\">\n",
       "  <thead>\n",
       "    <tr style=\"text-align: right;\">\n",
       "      <th></th>\n",
       "      <th>image_path</th>\n",
       "      <th>label</th>\n",
       "    </tr>\n",
       "  </thead>\n",
       "  <tbody>\n",
       "    <tr>\n",
       "      <th>0</th>\n",
       "      <td>/Users/renatoboemer/code/edge/raw_data/cloudy/...</td>\n",
       "      <td>cloudy</td>\n",
       "    </tr>\n",
       "    <tr>\n",
       "      <th>1</th>\n",
       "      <td>/Users/renatoboemer/code/edge/raw_data/cloudy/...</td>\n",
       "      <td>cloudy</td>\n",
       "    </tr>\n",
       "    <tr>\n",
       "      <th>2</th>\n",
       "      <td>/Users/renatoboemer/code/edge/raw_data/cloudy/...</td>\n",
       "      <td>cloudy</td>\n",
       "    </tr>\n",
       "    <tr>\n",
       "      <th>3</th>\n",
       "      <td>/Users/renatoboemer/code/edge/raw_data/cloudy/...</td>\n",
       "      <td>cloudy</td>\n",
       "    </tr>\n",
       "    <tr>\n",
       "      <th>4</th>\n",
       "      <td>/Users/renatoboemer/code/edge/raw_data/cloudy/...</td>\n",
       "      <td>cloudy</td>\n",
       "    </tr>\n",
       "  </tbody>\n",
       "</table>\n",
       "</div>"
      ],
      "text/plain": [
       "                                          image_path   label\n",
       "0  /Users/renatoboemer/code/edge/raw_data/cloudy/...  cloudy\n",
       "1  /Users/renatoboemer/code/edge/raw_data/cloudy/...  cloudy\n",
       "2  /Users/renatoboemer/code/edge/raw_data/cloudy/...  cloudy\n",
       "3  /Users/renatoboemer/code/edge/raw_data/cloudy/...  cloudy\n",
       "4  /Users/renatoboemer/code/edge/raw_data/cloudy/...  cloudy"
      ]
     },
     "execution_count": 3,
     "metadata": {},
     "output_type": "execute_result"
    }
   ],
   "source": [
    "data.head()"
   ]
  },
  {
   "cell_type": "code",
   "execution_count": 4,
   "id": "2ef547e5-8c9b-49c4-a19e-439838d9490a",
   "metadata": {},
   "outputs": [
    {
     "name": "stdout",
     "output_type": "stream",
     "text": [
      "Labels:  ['cloudy' 'water' 'green_area' 'desert']\n"
     ]
    },
    {
     "data": {
      "text/plain": [
       "label\n",
       "cloudy        1500\n",
       "water         1500\n",
       "green_area    1500\n",
       "desert        1131\n",
       "Name: count, dtype: int64"
      ]
     },
     "execution_count": 4,
     "metadata": {},
     "output_type": "execute_result"
    }
   ],
   "source": [
    "print('Labels: ', data.label.unique())\n",
    "classes = data.label.unique()\n",
    "data['label'].value_counts()"
   ]
  },
  {
   "cell_type": "code",
   "execution_count": 5,
   "id": "f2e773de-93e1-469b-9bf7-97d4a6c59d54",
   "metadata": {},
   "outputs": [
    {
     "data": {
      "text/plain": [
       "'/Users/renatoboemer/code/edge/raw_data/cloudy/train_17406.jpg'"
      ]
     },
     "execution_count": 5,
     "metadata": {},
     "output_type": "execute_result"
    }
   ],
   "source": [
    "data['image_path'][0]"
   ]
  },
  {
   "cell_type": "code",
   "execution_count": 7,
   "id": "915ebbc7-1bfc-4297-b6b2-36a8d0f69f34",
   "metadata": {},
   "outputs": [],
   "source": [
    "import cv2\n",
    "\n",
    "# Specify the path to your image\n",
    "image_path = '/Users/renatoboemer/code/edge/raw_data/desert/desert(57).jpg'\n",
    "\n",
    "# Read the image\n",
    "img = cv2.imread(image_path)\n",
    "\n",
    "# Check if the image was loaded successfully\n",
    "if img is None:\n",
    "    print(\"Error: Couldn't load the image.\")\n",
    "    exit()\n",
    "\n",
    "# Create a window to display the image\n",
    "cv2.imshow('cloudy image', img)\n",
    "\n",
    "# Wait for a key press and then close the image window\n",
    "cv2.waitKey(0)\n",
    "cv2.destroyAllWindows()\n"
   ]
  },
  {
   "cell_type": "code",
   "execution_count": 9,
   "id": "b45ade62-d29d-413f-afdc-9b9fba5f16fb",
   "metadata": {},
   "outputs": [
    {
     "name": "stdout",
     "output_type": "stream",
     "text": [
      "image dimensions: (256, 256, 3)\n"
     ]
    }
   ],
   "source": [
    "# Printing the size (height, width, channels)\n",
    "print(\"image dimensions:\", img.shape)"
   ]
  },
  {
   "cell_type": "code",
   "execution_count": null,
   "id": "061fd4dc-3d65-48ef-a95b-c2a2e1814c01",
   "metadata": {},
   "outputs": [],
   "source": [
    "def resize_images_in_directory(main_directory, target_size=(224, 224)):\n",
    "    \"\"\"\n",
    "    Resize all images in the given directory and its sub-directories to the target size.\n",
    "\n",
    "    :param main_directory: Path to the main directory.\n",
    "    :param target_size: Tuple indicating target size (width, height).\n",
    "    \"\"\"\n",
    "    \n",
    "    for root, dirs, files in os.walk(main_directory):\n",
    "        for file in files:\n",
    "            # Check if the file is an image (e.g., has a .jpg or .png extension).\n",
    "            if file.lower().endswith(('.png', '.jpg', '.jpeg')):\n",
    "                image_path = os.path.join(root, file)\n",
    "                \n",
    "                # Read and resize the image\n",
    "                img = cv2.imread(image_path)\n",
    "                if img is not None:  # Check if image was loaded successfully\n",
    "                    resized_img = cv2.resize(img, target_size)\n",
    "                    \n",
    "                    # Save the resized image back to the same path, effectively replacing it\n",
    "                    cv2.imwrite(image_path, resized_img)\n",
    "                    print(f\"Resized and saved {image_path}\")"
   ]
  },
  {
   "cell_type": "code",
   "execution_count": null,
   "id": "b353d750-3090-4012-8fc6-95a5caf6a996",
   "metadata": {},
   "outputs": [],
   "source": [
    "resize_images_in_directory(data_path)"
   ]
  }
 ],
 "metadata": {
  "kernelspec": {
   "display_name": "Python 3 (ipykernel)",
   "language": "python",
   "name": "python3"
  },
  "language_info": {
   "codemirror_mode": {
    "name": "ipython",
    "version": 3
   },
   "file_extension": ".py",
   "mimetype": "text/x-python",
   "name": "python",
   "nbconvert_exporter": "python",
   "pygments_lexer": "ipython3",
   "version": "3.10.6"
  }
 },
 "nbformat": 4,
 "nbformat_minor": 5
}
