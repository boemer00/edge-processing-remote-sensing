{
 "cells": [
  {
   "cell_type": "markdown",
   "id": "dff01bb5-cb3c-499b-b454-03f8639a5a6b",
   "metadata": {},
   "source": [
    "## Data Wrangling"
   ]
  },
  {
   "cell_type": "code",
   "execution_count": 1,
   "id": "6cf5d3cd-de45-4790-a9b4-94d6cb5fb3d7",
   "metadata": {},
   "outputs": [
    {
     "name": "stderr",
     "output_type": "stream",
     "text": [
      "2023-10-29 16:59:09.820444: I tensorflow/core/platform/cpu_feature_guard.cc:182] This TensorFlow binary is optimized to use available CPU instructions in performance-critical operations.\n",
      "To enable the following instructions: AVX2 FMA, in other operations, rebuild TensorFlow with the appropriate compiler flags.\n"
     ]
    }
   ],
   "source": [
    "import os\n",
    "import cv2\n",
    "import random\n",
    "import pandas as pd\n",
    "import numpy as np\n",
    "\n",
    "import seaborn as sns\n",
    "import matplotlib.pyplot as plt\n",
    "from IPython.display import display, Image\n",
    "\n",
    "from sklearn.model_selection import train_test_split\n",
    "from tensorflow.keras.applications import MobileNetV3Small\n",
    "from tensorflow.keras.layers import Input, Dense, Dropout, GlobalAveragePooling2D\n",
    "from tensorflow.keras.losses import CategoricalCrossentropy\n",
    "from tensorflow.keras.metrics import Accuracy, Precision, Recall\n",
    "from tensorflow.keras.models import Model\n",
    "from tensorflow.keras.optimizers import Adam\n",
    "from tensorflow.keras.preprocessing import image as k_image\n",
    "from scikeras.wrappers import KerasClassifier\n",
    "from keras.utils import to_categorical\n",
    "\n",
    "from skopt import BayesSearchCV\n",
    "from skopt.space import Real, Categorical, Integer"
   ]
  },
  {
   "cell_type": "code",
   "execution_count": 2,
   "id": "2a89033a-a811-48c5-8439-232f78da1970",
   "metadata": {},
   "outputs": [],
   "source": [
    "# Create a list to hold data\n",
    "data_list = []\n",
    "\n",
    "# Define classes\n",
    "data_path = '/Users/renatoboemer/code/edge/raw_data'\n",
    "for folder in os.listdir(data_path):\n",
    "    folder_path = os.path.join(data_path, folder)\n",
    "    \n",
    "    # Check if the item is a directory\n",
    "    if os.path.isdir(folder_path):\n",
    "        for image in os.listdir(folder_path):\n",
    "            image_path = os.path.join(folder_path, image)\n",
    "            label = folder\n",
    "            data_list.append({'image_path': image_path, 'label': label})\n",
    "\n",
    "# Convert list to DataFrame\n",
    "data = pd.DataFrame(data_list)\n"
   ]
  },
  {
   "cell_type": "code",
   "execution_count": 3,
   "id": "cf994211-1706-4a10-87d0-30e4bf3f2a91",
   "metadata": {},
   "outputs": [
    {
     "data": {
      "text/html": [
       "<div>\n",
       "<style scoped>\n",
       "    .dataframe tbody tr th:only-of-type {\n",
       "        vertical-align: middle;\n",
       "    }\n",
       "\n",
       "    .dataframe tbody tr th {\n",
       "        vertical-align: top;\n",
       "    }\n",
       "\n",
       "    .dataframe thead th {\n",
       "        text-align: right;\n",
       "    }\n",
       "</style>\n",
       "<table border=\"1\" class=\"dataframe\">\n",
       "  <thead>\n",
       "    <tr style=\"text-align: right;\">\n",
       "      <th></th>\n",
       "      <th>image_path</th>\n",
       "      <th>label</th>\n",
       "    </tr>\n",
       "  </thead>\n",
       "  <tbody>\n",
       "    <tr>\n",
       "      <th>0</th>\n",
       "      <td>/Users/renatoboemer/code/edge/raw_data/cloudy/...</td>\n",
       "      <td>cloudy</td>\n",
       "    </tr>\n",
       "    <tr>\n",
       "      <th>1</th>\n",
       "      <td>/Users/renatoboemer/code/edge/raw_data/cloudy/...</td>\n",
       "      <td>cloudy</td>\n",
       "    </tr>\n",
       "    <tr>\n",
       "      <th>2</th>\n",
       "      <td>/Users/renatoboemer/code/edge/raw_data/cloudy/...</td>\n",
       "      <td>cloudy</td>\n",
       "    </tr>\n",
       "    <tr>\n",
       "      <th>3</th>\n",
       "      <td>/Users/renatoboemer/code/edge/raw_data/cloudy/...</td>\n",
       "      <td>cloudy</td>\n",
       "    </tr>\n",
       "    <tr>\n",
       "      <th>4</th>\n",
       "      <td>/Users/renatoboemer/code/edge/raw_data/cloudy/...</td>\n",
       "      <td>cloudy</td>\n",
       "    </tr>\n",
       "  </tbody>\n",
       "</table>\n",
       "</div>"
      ],
      "text/plain": [
       "                                          image_path   label\n",
       "0  /Users/renatoboemer/code/edge/raw_data/cloudy/...  cloudy\n",
       "1  /Users/renatoboemer/code/edge/raw_data/cloudy/...  cloudy\n",
       "2  /Users/renatoboemer/code/edge/raw_data/cloudy/...  cloudy\n",
       "3  /Users/renatoboemer/code/edge/raw_data/cloudy/...  cloudy\n",
       "4  /Users/renatoboemer/code/edge/raw_data/cloudy/...  cloudy"
      ]
     },
     "execution_count": 3,
     "metadata": {},
     "output_type": "execute_result"
    }
   ],
   "source": [
    "data.head()"
   ]
  },
  {
   "cell_type": "code",
   "execution_count": 4,
   "id": "2ef547e5-8c9b-49c4-a19e-439838d9490a",
   "metadata": {},
   "outputs": [
    {
     "name": "stdout",
     "output_type": "stream",
     "text": [
      "Labels:  ['cloudy' 'water' 'green_area' 'desert']\n"
     ]
    },
    {
     "data": {
      "text/plain": [
       "label\n",
       "desert        1502\n",
       "cloudy        1500\n",
       "water         1500\n",
       "green_area    1500\n",
       "Name: count, dtype: int64"
      ]
     },
     "execution_count": 4,
     "metadata": {},
     "output_type": "execute_result"
    }
   ],
   "source": [
    "print('Labels: ', data.label.unique())\n",
    "classes = data.label.unique()\n",
    "data['label'].value_counts()"
   ]
  },
  {
   "cell_type": "markdown",
   "id": "4b2e008f-cc64-4a86-b1ad-9aee233a5401",
   "metadata": {},
   "source": [
    "## Data Augumentation"
   ]
  },
  {
   "cell_type": "markdown",
   "id": "8dee4dd9-317b-4fe3-bb04-b9381688b36f",
   "metadata": {},
   "source": [
    "The `desert` class is slightly imbalanced. To balance the dataset by augmenting the `desert` images, we will have to create an additional \n",
    "1500−1131=**369 images**. Let's apply a couple of data augmentation techniques to address this issue:\n",
    "- rotation\n",
    "- translation\n",
    "\n",
    "Given these augmentations, each original `desert` image would generate 7 additional images (3 from rotations and 4 from translations).\n",
    "\n",
    "To achieve 369 new images, we will need to process ⌈369/7⌉=53 original `desert` images."
   ]
  },
  {
   "cell_type": "code",
   "execution_count": null,
   "id": "fa323ca8-c065-4283-ab05-1f28dae40af1",
   "metadata": {},
   "outputs": [],
   "source": [
    "def rotate_image(image, angle):\n",
    "    rows, cols, _ = image.shape\n",
    "    M = cv2.getRotationMatrix2D((cols/2, rows/2), angle, 1) \n",
    "    return cv2.warpAffine(image, M, (cols, rows))\n",
    "\n",
    "def translate_image(image, x_shift, y_shift):\n",
    "    rows, cols, _ = image.shape\n",
    "    M = np.float32([[1, 0, x_shift], [0, 1, y_shift]])\n",
    "    return cv2.warpAffine(image, M, (cols, rows))"
   ]
  },
  {
   "cell_type": "code",
   "execution_count": null,
   "id": "4d2b1e25-e927-42eb-9df1-7b4a0345edd6",
   "metadata": {},
   "outputs": [],
   "source": [
    "# Paths to desert images\n",
    "desert_path = '/Users/renatoboemer/code/edge/raw_data/desert'\n",
    "desert_image_paths = []\n",
    "\n",
    "for image in os.listdir(desert_path):\n",
    "    image_path = os.path.join(desert_path, image)\n",
    "    desert_image_paths.append(image_path)\n",
    "    "
   ]
  },
  {
   "cell_type": "code",
   "execution_count": null,
   "id": "4ec7ef68-7b13-4005-83e8-a99c4cbe4e6f",
   "metadata": {},
   "outputs": [],
   "source": [
    "# Shuffle the paths to randomize which images we are augmenting\n",
    "random.shuffle(desert_image_paths)\n",
    "\n",
    "augmented_images = []\n",
    "\n",
    "for i, path in enumerate(desert_image_paths[:53]):\n",
    "    image = cv2.imread(path)\n",
    "\n",
    "    # Extracting the filename without extension\n",
    "    filename = os.path.basename(path)\n",
    "    base_filename, file_extension = os.path.splitext(filename)\n",
    "    \n",
    "    # Rotations\n",
    "    cv2.imwrite(os.path.join(desert_path, f\"{base_filename}_rotated_-15{file_extension}\"), rotate_image(image, -15))\n",
    "    cv2.imwrite(os.path.join(desert_path, f\"{base_filename}_rotated_15{file_extension}\"), rotate_image(image, 15))\n",
    "    cv2.imwrite(os.path.join(desert_path, f\"{base_filename}_rotated_30{file_extension}\"), rotate_image(image, 30))\n",
    "    \n",
    "    # Translations\n",
    "    cv2.imwrite(os.path.join(desert_path, f\"{base_filename}_translated_right{file_extension}\"), translate_image(image, 25, 0))\n",
    "    cv2.imwrite(os.path.join(desert_path, f\"{base_filename}_translated_left{file_extension}\"), translate_image(image, -25, 0))\n",
    "    cv2.imwrite(os.path.join(desert_path, f\"{base_filename}_translated_down{file_extension}\"), translate_image(image, 0, 25))\n",
    "    cv2.imwrite(os.path.join(desert_path, f\"{base_filename}_translated_up{file_extension}\"), translate_image(image, 0, -25))\n"
   ]
  },
  {
   "cell_type": "code",
   "execution_count": 5,
   "id": "dd035a93-2ef7-49c2-8c74-e3a89327b287",
   "metadata": {},
   "outputs": [],
   "source": [
    "# Create a list to hold data\n",
    "new_data_list = []\n",
    "\n",
    "# Define classes\n",
    "data_path = '/Users/renatoboemer/code/edge/raw_data'\n",
    "for folder in os.listdir(data_path):\n",
    "    folder_path = os.path.join(data_path, folder)\n",
    "    \n",
    "    # Check if the item is a directory\n",
    "    if os.path.isdir(folder_path):\n",
    "        for image in os.listdir(folder_path):\n",
    "            if image.endswith(('.jpg', '.png')):\n",
    "                image_path = os.path.join(folder_path, image)\n",
    "                label = folder\n",
    "                new_data_list.append({'image_path': image_path, 'label': label})"
   ]
  },
  {
   "cell_type": "code",
   "execution_count": 6,
   "id": "a7146a4f-2b91-4ce5-bff1-84d01b163642",
   "metadata": {},
   "outputs": [
    {
     "name": "stdout",
     "output_type": "stream",
     "text": [
      "Total images: 6002\n",
      "label\n",
      "desert        1502\n",
      "cloudy        1500\n",
      "water         1500\n",
      "green_area    1500\n",
      "Name: count, dtype: int64\n"
     ]
    }
   ],
   "source": [
    "# Convert list to DataFrame\n",
    "df = pd.DataFrame(new_data_list)\n",
    "\n",
    "# Print total count and count per label\n",
    "print(f\"Total images: {len(df)}\")\n",
    "print(df['label'].value_counts())"
   ]
  },
  {
   "cell_type": "markdown",
   "id": "b882e67d-5064-427f-88c4-d35c5f2527ff",
   "metadata": {},
   "source": [
    "## Check an image"
   ]
  },
  {
   "cell_type": "code",
   "execution_count": 14,
   "id": "b224b077-8822-4491-b309-792ccff79fba",
   "metadata": {},
   "outputs": [
    {
     "data": {
      "image/jpeg": "[encoded data removed]",
      "text/plain": [
       "<IPython.core.display.Image object>"
      ]
     },
     "metadata": {},
     "output_type": "display_data"
    }
   ],
   "source": [
    "# Specify the path to your image\n",
    "image_path = '/Users/renatoboemer/code/edge/raw_data/desert/desert(42).jpg'\n",
    "\n",
    "# Read the image\n",
    "img = cv2.imread(image_path)\n",
    "\n",
    "# Check if the image was loaded successfully\n",
    "if img is None:\n",
    "    print(\"Error: Couldn't load the image.\")\n",
    "else:\n",
    "    # Display the image in the notebook\n",
    "    display(Image(data=cv2.imencode('.jpg', img)[1].tobytes()))\n"
   ]
  },
  {
   "cell_type": "code",
   "execution_count": 15,
   "id": "b45ade62-d29d-413f-afdc-9b9fba5f16fb",
   "metadata": {},
   "outputs": [
    {
     "name": "stdout",
     "output_type": "stream",
     "text": [
      "image dimensions: (224, 224, 3)\n",
      "uint8\n"
     ]
    }
   ],
   "source": [
    "# Printing the size (height, width, channels)\n",
    "print(\"image dimensions:\", img.shape)\n",
    "\n",
    "# Print image type\n",
    "print(img.dtype)"
   ]
  },
  {
   "cell_type": "markdown",
   "id": "66352538-bc01-4a46-b6fe-bd52a8695442",
   "metadata": {},
   "source": [
    "Images are in 8-bit. Ideally, we would like to train our model using 32-bit to improve accuracy but it will not be possible."
   ]
  },
  {
   "cell_type": "markdown",
   "id": "3c45654b-2476-48dc-841e-77eef1319971",
   "metadata": {},
   "source": [
    "## Resize & Normalize images"
   ]
  },
  {
   "cell_type": "code",
   "execution_count": null,
   "id": "061fd4dc-3d65-48ef-a95b-c2a2e1814c01",
   "metadata": {},
   "outputs": [],
   "source": [
    "def resize_images_in_directory(main_directory, target_size=(224, 224)):\n",
    "    \"\"\"\n",
    "    Resize all images in the given directory and its sub-directories to the target size.\n",
    "\n",
    "    :param main_directory: Path to the main directory.\n",
    "    :param target_size: Tuple indicating target size (width, height).\n",
    "    \"\"\"\n",
    "    \n",
    "    resized = False  # Flag to indicate if any images were resized\n",
    "    \n",
    "    for root, dirs, files in os.walk(main_directory):\n",
    "        for file in files:\n",
    "            # Check if the file is an image\n",
    "            if file.lower().endswith(('.png', '.jpg', '.jpeg')):\n",
    "                image_path = os.path.join(root, file)\n",
    "                \n",
    "                # Read and resize the image\n",
    "                img = cv2.imread(image_path)\n",
    "                if img is not None:  # Check if image was loaded successfully\n",
    "                    resized_img = cv2.resize(img, target_size)\n",
    "                    \n",
    "                    # Save the resized image back to the same path, effectively replacing it\n",
    "                    cv2.imwrite(image_path, resized_img)\n",
    "                    resized = True  # Set the flag to indicate that at least one image was resized\n",
    "\n",
    "    if resized:\n",
    "        print(\"Resizing complete.\")\n",
    "    else:\n",
    "        print(\"No images were resized.\")\n"
   ]
  },
  {
   "cell_type": "code",
   "execution_count": null,
   "id": "02bf8068-9b0c-4259-948a-5023b74eb273",
   "metadata": {},
   "outputs": [],
   "source": [
    "main_directory = \"/Users/renatoboemer/code/edge/raw_data\"\n",
    "resize_images_in_directory(main_directory, target_size=(224, 224))"
   ]
  },
  {
   "cell_type": "code",
   "execution_count": null,
   "id": "d0e010b4-a467-41b0-8f0f-5b53d3ebbb95",
   "metadata": {},
   "outputs": [],
   "source": [
    "def normalize_images(main_directory):\n",
    "    \"\"\"\n",
    "    Normalize pixel values of all images in the given directory and its sub-directories to the [0, 1] range.\n",
    "    \"\"\"\n",
    "    \n",
    "    normalized = False  # Initialize a flag to check if any images were normalized\n",
    "\n",
    "    for root, dirs, files in os.walk(main_directory):\n",
    "        for file in files:\n",
    "            # Check if the file is an image (e.g., has a .jpg or .png extension).\n",
    "            if file.lower().endswith(('.png', '.jpg', '.jpeg')):\n",
    "                image_path = os.path.join(root, file)\n",
    "\n",
    "                # Read the image\n",
    "                img = cv2.imread(image_path)\n",
    "                if img is not None:  # Check if image was loaded successfully\n",
    "                    # Normalize pixel values to the [0, 1] range\n",
    "                    img_normalized = img.astype(np.float32) / 255.0\n",
    "\n",
    "                    # Save the normalized image\n",
    "                    cv2.imwrite(image_path, (img_normalized * 255))\n",
    "\n",
    "                    normalized = True  # Set the flag to indicate that at least one image was normalized\n",
    "\n",
    "    if normalized:\n",
    "        print(\"Normalization complete.\")\n",
    "    else:\n",
    "        print(\"Images not normalized.\")\n"
   ]
  },
  {
   "cell_type": "code",
   "execution_count": null,
   "id": "14dfc94d-9095-4f93-8db7-d0e36162686b",
   "metadata": {},
   "outputs": [],
   "source": [
    "main_directory = \"/Users/renatoboemer/code/edge/raw_data\"\n",
    "normalize_images(main_directory)"
   ]
  },
  {
   "cell_type": "markdown",
   "id": "f2ba064b-2f45-4754-ba60-43394768d7af",
   "metadata": {},
   "source": [
    "## Train, Test, Split"
   ]
  },
  {
   "cell_type": "code",
   "execution_count": 17,
   "id": "6db77088-2867-4c30-a643-b91e493f1ad9",
   "metadata": {},
   "outputs": [],
   "source": [
    "from keras.utils import to_categorical\n",
    "\n",
    "# Split data into train and validation+test sets\n",
    "train_df, val_test_df = train_test_split(df, test_size=0.2, random_state=42)\n",
    "\n",
    "# Further split validation+test set into validation and test sets\n",
    "val_df, test_df = train_test_split(val_test_df, test_size=0.5, random_state=42)"
   ]
  },
  {
   "cell_type": "code",
   "execution_count": 18,
   "id": "9cec5e79-ae78-49f2-9402-0cbb19447634",
   "metadata": {},
   "outputs": [],
   "source": [
    "label_mapping = {\n",
    "    'green_area': 0,\n",
    "    'water': 1,\n",
    "    'desert': 2,\n",
    "    'cloudy': 3\n",
    "}\n",
    "\n",
    "train_df['label'] = train_df['label'].map(label_mapping)\n",
    "val_df['label'] = val_df['label'].map(label_mapping)\n",
    "test_df['label'] = test_df['label'].map(label_mapping)\n",
    "\n",
    "train_labels = train_df['label'].values\n",
    "val_labels = val_df['label'].values\n",
    "test_labels = test_df['label'].values"
   ]
  },
  {
   "cell_type": "code",
   "execution_count": 19,
   "id": "d6859ae9-74be-4cb5-af59-4dc7cfdbc05d",
   "metadata": {},
   "outputs": [],
   "source": [
    "# One-hot encode the labels\n",
    "train_labels_ohe = to_categorical(train_labels, num_classes=4)\n",
    "val_labels_ohe = to_categorical(val_labels, num_classes=4)\n",
    "test_labels_ohe = to_categorical(test_labels, num_classes=4)"
   ]
  },
  {
   "cell_type": "code",
   "execution_count": 20,
   "id": "11419299-994f-4eae-ac31-6d06e9d4fe0e",
   "metadata": {},
   "outputs": [
    {
     "name": "stdout",
     "output_type": "stream",
     "text": [
      "Number of training samples:  4801\n",
      "Number of validation samples:  600\n",
      "Number of testing samples:  601\n"
     ]
    }
   ],
   "source": [
    "print(\"Number of training samples: \", train_df.shape[0])\n",
    "print(\"Number of validation samples: \", val_df.shape[0])\n",
    "print(\"Number of testing samples: \", test_df.shape[0])"
   ]
  },
  {
   "cell_type": "code",
   "execution_count": 21,
   "id": "1ff194d2-a4d0-41a3-9ba7-485bea5c5600",
   "metadata": {},
   "outputs": [],
   "source": [
    "from tensorflow.keras.preprocessing import image as k_image\n",
    "\n",
    "def load_image(img_path):\n",
    "    \"\"\"Loads the image as a numpy array.\"\"\"\n",
    "    img = k_image.load_img(img_path)\n",
    "    return k_image.img_to_array(img)\n",
    "\n",
    "# Load images for training data\n",
    "train_images = np.array([load_image(img_path) for img_path in train_df['image_path']])\n",
    "train_labels = train_df['label'].values\n",
    "\n",
    "# Load images for validation data\n",
    "val_images = np.array([load_image(img_path) for img_path in val_df['image_path']])\n",
    "val_labels = val_df['label'].values\n",
    "\n",
    "# Load images for test data\n",
    "test_images = np.array([load_image(img_path) for img_path in test_df['image_path']])\n",
    "test_labels = test_df['label'].values\n"
   ]
  },
  {
   "cell_type": "markdown",
   "id": "daa6b7d4-432d-4585-9d3c-71262d39d578",
   "metadata": {},
   "source": [
    "## Model"
   ]
  },
  {
   "cell_type": "markdown",
   "id": "a31cfbc3-7dc7-417f-b8d9-d58109af774a",
   "metadata": {},
   "source": [
    "Satellites, especially those with onboard processing for tasks like image classification, have limitations when it comes to power, memory, and computational resources. This contrasts with the extensive resources available on the ground in data centers. Therefore, the convolutional neural networks (CNNs) employed on satellites tend to prioritise efficiency and resource conservation.\n",
    "\n",
    "Given those constraints, I have decided to use [Keras MobileNet](https://keras.io/api/applications/mobilenet/). \n",
    "\n",
    "MobileNet is a class of efficient deep learning neural network architectures designed primarily for mobile and edge devices, rather than server-based applications. The goal of MobileNet is to provide a lightweight model that offers good performance while being computationally efficient, thereby allowing for real-time inference on devices with limited computational resources, such as a satellite 🛰️."
   ]
  },
  {
   "cell_type": "code",
   "execution_count": 30,
   "id": "1ce9870c-d41f-4a60-aa99-f7c877a29c6c",
   "metadata": {},
   "outputs": [],
   "source": [
    "# # 1. Wrap model in a function\n",
    "# def create_model(learning_rate=0.001, dropout_rate=0.2, dense_neurons=128):\n",
    "#     input_shape = (224, 224, 3)\n",
    "#     base_model = MobileNetV3Small(input_shape=input_shape, include_top=False, weights='imagenet')\n",
    "\n",
    "#     x = GlobalAveragePooling2D()(base_model.output)\n",
    "#     x = Dense(dense_neurons, activation='relu')(x)\n",
    "#     x = Dropout(dropout_rate)(x)\n",
    "#     output = Dense(4, activation='softmax')(x)\n",
    "\n",
    "#     model = Model(inputs=base_model.input, outputs=output)\n",
    "#     model.compile(optimizer=Adam(learning_rate=learning_rate),\n",
    "#                   loss=CategoricalCrossentropy(from_logits=False),\n",
    "#                   metrics=['accuracy'])\n",
    "#     return model\n",
    "\n",
    "# # 2. Create a KerasClassifier\n",
    "# model = KerasClassifier(build_fn=create_model, epochs=10, batch_size=16, verbose=0)\n",
    "\n",
    "# # 3. Define search space for BayesSearchCV\n",
    "# search_space = {\n",
    "#     'learning_rate': Real(0.0001, 0.01, prior='log-uniform'),\n",
    "#     'dropout_rate': Real(0.1, 0.5)\n",
    "#     'dense_neurons': Integer(64, 256)\n",
    "# }\n",
    "\n",
    "# # Initialise BayesSearchCV\n",
    "# bayes_search = BayesSearchCV(estimator=model, \n",
    "#                              search_spaces=search_space,\n",
    "#                              n_iter=10, \n",
    "#                              cv=3, \n",
    "#                              n_jobs=-1, \n",
    "#                              verbose=1)\n"
   ]
  },
  {
   "cell_type": "code",
   "execution_count": 37,
   "id": "e9d31bc1-52b3-4a30-9541-d29f8a676a39",
   "metadata": {},
   "outputs": [],
   "source": [
    "# bayes_search.fit(train_images, train_labels_ohe,)\n",
    "\n",
    "# best_params = bayes_search.best_params_\n",
    "# best_params"
   ]
  },
  {
   "cell_type": "code",
   "execution_count": 36,
   "id": "b81eee7d-5006-4077-9f0a-5eb1b39dd89a",
   "metadata": {},
   "outputs": [
    {
     "name": "stderr",
     "output_type": "stream",
     "text": [
      "[I 2023-10-29 17:33:32,208] A new study created in memory with name: no-name-394f211d-c442-43f8-92b3-8dd0db597a67\n",
      "/var/folders/0z/4gxpxvr90sg_nm735wh2pcw00000gn/T/ipykernel_42138/879048177.py:33: FutureWarning: KerasPruningCallback has been deprecated in v2.1.0. This feature will be removed in v4.0.0. See https://github.com/optuna/optuna/releases/tag/v2.1.0. Recent Keras release (2.4.0) simply redirects all APIs in the standalone keras package to point to tf.keras. There is now only one Keras: tf.keras. There may be some breaking changes for some workflows by upgrading to keras 2.4.0. Test before upgrading. REF: https://github.com/keras-team/keras/releases/tag/2.4.0. There is an alternative callback function that can be used instead: :class:`~optuna_integration.TFKerasPruningCallback`\n",
      "  callbacks = [KerasPruningCallback(trial, 'val_accuracy')]\n"
     ]
    },
    {
     "name": "stdout",
     "output_type": "stream",
     "text": [
      "Epoch 1/10\n",
      "151/151 [==============================] - 53s 323ms/step - loss: 0.1218 - accuracy: 0.9665 - val_loss: 0.0323 - val_accuracy: 0.9933\n",
      "Epoch 2/10\n",
      "151/151 [==============================] - 48s 320ms/step - loss: 0.0363 - accuracy: 0.9875 - val_loss: 0.0106 - val_accuracy: 0.9983\n",
      "Epoch 3/10\n",
      "151/151 [==============================] - 50s 329ms/step - loss: 0.0179 - accuracy: 0.9956 - val_loss: 0.0124 - val_accuracy: 0.9967\n",
      "Epoch 4/10\n",
      "151/151 [==============================] - 50s 332ms/step - loss: 0.0204 - accuracy: 0.9948 - val_loss: 0.0081 - val_accuracy: 1.0000\n",
      "Epoch 5/10\n",
      "151/151 [==============================] - 64s 422ms/step - loss: 0.0178 - accuracy: 0.9940 - val_loss: 0.0032 - val_accuracy: 1.0000\n",
      "Epoch 6/10\n",
      "151/151 [==============================] - 50s 331ms/step - loss: 0.0137 - accuracy: 0.9958 - val_loss: 0.0085 - val_accuracy: 0.9967\n",
      "Epoch 7/10\n",
      "151/151 [==============================] - 52s 342ms/step - loss: 0.0136 - accuracy: 0.9965 - val_loss: 0.0055 - val_accuracy: 0.9983\n",
      "Epoch 8/10\n",
      "151/151 [==============================] - 48s 320ms/step - loss: 0.0113 - accuracy: 0.9967 - val_loss: 0.0064 - val_accuracy: 0.9967\n",
      "Epoch 9/10\n",
      "151/151 [==============================] - 48s 315ms/step - loss: 0.0100 - accuracy: 0.9967 - val_loss: 0.0102 - val_accuracy: 0.9950\n",
      "Epoch 10/10\n",
      "151/151 [==============================] - 49s 325ms/step - loss: 0.0074 - accuracy: 0.9979 - val_loss: 0.0079 - val_accuracy: 0.9967\n",
      "19/19 [==============================] - 9s 460ms/step - loss: 0.0079 - accuracy: 0.9967\n"
     ]
    },
    {
     "name": "stderr",
     "output_type": "stream",
     "text": [
      "[I 2023-10-29 17:42:21,261] Trial 0 finished with value: 0.996666669845581 and parameters: {'learning_rate': 0.002687672047407516, 'dropout_rate': 0.14934293517802494, 'dense_neurons': 73}. Best is trial 0 with value: 0.996666669845581.\n"
     ]
    },
    {
     "name": "stdout",
     "output_type": "stream",
     "text": [
      "Epoch 1/10\n",
      "151/151 [==============================] - 54s 323ms/step - loss: 0.1358 - accuracy: 0.9517 - val_loss: 0.0299 - val_accuracy: 0.9917\n",
      "Epoch 2/10\n",
      "151/151 [==============================] - 47s 309ms/step - loss: 0.0351 - accuracy: 0.9890 - val_loss: 0.0231 - val_accuracy: 0.9950\n",
      "Epoch 3/10\n",
      "151/151 [==============================] - 56s 372ms/step - loss: 0.0359 - accuracy: 0.9879 - val_loss: 0.0391 - val_accuracy: 0.9883\n",
      "Epoch 4/10\n",
      "151/151 [==============================] - 51s 336ms/step - loss: 0.0268 - accuracy: 0.9917 - val_loss: 0.0205 - val_accuracy: 0.9950\n",
      "Epoch 5/10\n",
      "151/151 [==============================] - 53s 352ms/step - loss: 0.0419 - accuracy: 0.9900 - val_loss: 0.0063 - val_accuracy: 1.0000\n",
      "Epoch 6/10\n",
      "151/151 [==============================] - 49s 323ms/step - loss: 0.0381 - accuracy: 0.9915 - val_loss: 0.0235 - val_accuracy: 0.9933\n",
      "Epoch 7/10\n",
      "151/151 [==============================] - 50s 329ms/step - loss: 0.0178 - accuracy: 0.9954 - val_loss: 0.0126 - val_accuracy: 0.9967\n",
      "Epoch 8/10\n",
      "151/151 [==============================] - 50s 333ms/step - loss: 0.0560 - accuracy: 0.9835 - val_loss: 0.0073 - val_accuracy: 0.9967\n",
      "Epoch 9/10\n",
      "151/151 [==============================] - 50s 332ms/step - loss: 0.0155 - accuracy: 0.9956 - val_loss: 0.0226 - val_accuracy: 0.9933\n",
      "Epoch 10/10\n",
      "151/151 [==============================] - 50s 333ms/step - loss: 0.0314 - accuracy: 0.9910 - val_loss: 0.0203 - val_accuracy: 0.9950\n",
      "19/19 [==============================] - 6s 274ms/step - loss: 0.0203 - accuracy: 0.9950\n"
     ]
    },
    {
     "name": "stderr",
     "output_type": "stream",
     "text": [
      "[I 2023-10-29 17:51:11,892] Trial 1 finished with value: 0.9950000047683716 and parameters: {'learning_rate': 0.00924571520427982, 'dropout_rate': 0.17860648246386135, 'dense_neurons': 185}. Best is trial 0 with value: 0.996666669845581.\n"
     ]
    },
    {
     "name": "stdout",
     "output_type": "stream",
     "text": [
      "Accuracy: 0.996666669845581\n",
      "Best hyperparameters: {'learning_rate': 0.002687672047407516, 'dropout_rate': 0.14934293517802494, 'dense_neurons': 73}\n"
     ]
    }
   ],
   "source": [
    "import optuna\n",
    "from optuna.integration import KerasPruningCallback\n",
    "from tensorflow.keras.layers import Dropout, Dense, GlobalAveragePooling2D\n",
    "from tensorflow.keras.models import Model\n",
    "from tensorflow.keras.applications import MobileNetV3Small\n",
    "from tensorflow.keras.optimizers import Adam\n",
    "\n",
    "def create_model(trial):\n",
    "    # Suggest values for the hyperparameters\n",
    "    learning_rate = trial.suggest_float('learning_rate', 0.0001, 0.01, log=True)\n",
    "    dropout_rate = trial.suggest_float('dropout_rate', 0.1, 0.3)\n",
    "    dense_neurons = trial.suggest_int('dense_neurons', 64, 256)\n",
    "    \n",
    "    # Build the model architecture\n",
    "    base_model = MobileNetV3Small(input_shape=(224, 224, 3), include_top=False, weights='imagenet', )\n",
    "    base_model.trainable = False  # Freeze the convolutional base\n",
    "    x = GlobalAveragePooling2D()(base_model.output)\n",
    "    x = Dropout(dropout_rate)(x)\n",
    "    x = Dense(dense_neurons, activation='relu')(x)\n",
    "    predictions = Dense(4, activation='softmax')(x)\n",
    "    model = Model(inputs=base_model.input, outputs=predictions)\n",
    "    \n",
    "    # Compile the model\n",
    "    model.compile(optimizer=Adam(learning_rate=learning_rate),\n",
    "                  loss='categorical_crossentropy',\n",
    "                  metrics=['accuracy'])\n",
    "    return model\n",
    "\n",
    "def objective(trial):\n",
    "    model = create_model(trial)\n",
    "\n",
    "    # Add a callback for pruning.\n",
    "    callbacks = [KerasPruningCallback(trial, 'val_accuracy')]\n",
    "\n",
    "    # Train the model\n",
    "    history = model.fit(\n",
    "        train_images, train_labels_ohe,\n",
    "        validation_data=(val_images, val_labels_ohe),\n",
    "        shuffle=True,\n",
    "        batch_size=32,\n",
    "        epochs=10,\n",
    "        callbacks=callbacks,\n",
    "    )\n",
    "    \n",
    "    # Evaluate the model accuracy on the validation set\n",
    "    val_accuracy = model.evaluate(val_images, val_labels_ohe)[1]\n",
    "    return val_accuracy\n",
    "\n",
    "# Create a study object and specify the direction is 'maximize'.\n",
    "study = optuna.create_study(direction='maximize')\n",
    "study.optimize(objective, n_trials=100, timeout=600)\n",
    "\n",
    "# Print the result\n",
    "trial = study.best_trial\n",
    "print(f'Accuracy: {trial.value}')\n",
    "print(f\"Best hyperparameters: {trial.params}\")\n"
   ]
  },
  {
   "cell_type": "code",
   "execution_count": null,
   "id": "0d50ef71-de67-4f0f-bc91-071beb605ede",
   "metadata": {},
   "outputs": [],
   "source": [
    "# Build the optimised model\n",
    "base_model = MobileNetV3Small(input_shape=(224, 224, 3), include_top=False, weights='imagenet', )\n",
    "base_model.trainable = False  # Freeze the convolutional base\n",
    "x = GlobalAveragePooling2D()(base_model.output)\n",
    "x = Dropout(0.14934293517802494)(x)\n",
    "x = Dense(73, activation='relu')(x)\n",
    "predictions = Dense(4, activation='softmax')(x)\n",
    "model = Model(inputs=base_model.input, outputs=predictions)\n",
    "    \n",
    "# Compile the model\n",
    "model.compile(optimizer=Adam(learning_rate=0.002687672047407516),\n",
    "              loss='categorical_crossentropy',\n",
    "              metrics=['accuracy'])"
   ]
  },
  {
   "cell_type": "code",
   "execution_count": null,
   "id": "fcf61bef-0cb7-4615-930f-9b5873c5d8bc",
   "metadata": {},
   "outputs": [],
   "source": [
    "# model.summary()"
   ]
  },
  {
   "cell_type": "code",
   "execution_count": null,
   "id": "17329541-eac3-45c8-9436-a1bc1e3aa08a",
   "metadata": {},
   "outputs": [],
   "source": [
    "history = model.fit(train_images, train_labels_ohe, \n",
    "                    validation_data=(val_images, val_labels_ohe), \n",
    "                    epochs=10, \n",
    "                    batch_size=160)\n"
   ]
  },
  {
   "cell_type": "code",
   "execution_count": null,
   "id": "b39c5008-d8e6-46a3-a8f3-e100034596b2",
   "metadata": {},
   "outputs": [],
   "source": [
    "def plot_loss_accuracy(history):\n",
    "    plt.plot(history.history['loss'])\n",
    "    plt.plot(history.history['val_loss'])\n",
    "    plt.title('Model loss')\n",
    "    plt.ylabel('Loss')\n",
    "    plt.xlabel('Epoch')\n",
    "    plt.legend(['Train', 'Test'], loc='best')\n",
    "    plt.show()\n",
    "    \n",
    "    plt.plot(history.history['accuracy'])\n",
    "    plt.plot(history.history['val_accuracy'])\n",
    "    plt.title('Model Accuracy')\n",
    "    plt.ylabel('Accuracy')\n",
    "    plt.xlabel('Epoch')\n",
    "    plt.legend(['Train', 'Test'], loc='best')\n",
    "    plt.show()\n",
    "\n",
    "plot_loss_accuracy(history)"
   ]
  },
  {
   "cell_type": "code",
   "execution_count": null,
   "id": "d867523a-5ba1-4776-a875-712eacb58268",
   "metadata": {},
   "outputs": [],
   "source": [
    "loss, test_accuracy = model.evaluate(test_images, test_labels_ohe)\n",
    "print(f\"Test accuracy: {test_accuracy * 100:.2f}%\")\n"
   ]
  },
  {
   "cell_type": "markdown",
   "id": "9ec3748c-acaf-4a1b-9432-4fd30ebbc252",
   "metadata": {},
   "source": [
    "## First version"
   ]
  },
  {
   "cell_type": "code",
   "execution_count": null,
   "id": "e9846c65-b637-4cb9-82eb-18f91ee718fc",
   "metadata": {},
   "outputs": [],
   "source": [
    "# # Define input shape\n",
    "# input_shape = (224, 224, 3)\n",
    "\n",
    "# # Create MobileNetV3-Small model\n",
    "# base_model = MobileNetV3Small(input_shape=input_shape, include_top=False, weights='imagenet')\n",
    "\n",
    "# # Add custom classification layers on top\n",
    "# x = GlobalAveragePooling2D()(base_model.output)\n",
    "# x = Dense(128, activation='relu')(x)\n",
    "# output = Dense(4, activation='softmax')(x)\n",
    "\n",
    "# # Create the final model\n",
    "# model = Model(inputs=base_model.input, outputs=output)\n",
    "\n",
    "# # Compile the model\n",
    "# model.compile(optimizer=Adam(learning_rate=0.001),\n",
    "#               loss=CategoricalCrossentropy(from_logits=False),\n",
    "#               metrics=['accuracy', 'Precision', 'Recall'])"
   ]
  },
  {
   "cell_type": "code",
   "execution_count": null,
   "id": "a46193ba-b299-4768-b3f2-e02e9217c5fe",
   "metadata": {},
   "outputs": [],
   "source": []
  }
 ],
 "metadata": {
  "kernelspec": {
   "display_name": "Python 3 (ipykernel)",
   "language": "python",
   "name": "python3"
  },
  "language_info": {
   "codemirror_mode": {
    "name": "ipython",
    "version": 3
   },
   "file_extension": ".py",
   "mimetype": "text/x-python",
   "name": "python",
   "nbconvert_exporter": "python",
   "pygments_lexer": "ipython3",
   "version": "3.10.6"
  }
 },
 "nbformat": 4,
 "nbformat_minor": 5
}
